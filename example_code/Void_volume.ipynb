{
  "nbformat": 4,
  "nbformat_minor": 0,
  "metadata": {
    "colab": {
      "provenance": []
    },
    "kernelspec": {
      "name": "python3",
      "display_name": "Python 3"
    },
    "language_info": {
      "name": "python"
    }
  },
  "cells": [
    {
      "cell_type": "code",
      "execution_count": null,
      "metadata": {
        "colab": {
          "base_uri": "https://localhost:8080/"
        },
        "id": "l-v_twhceBcq",
        "outputId": "afb973ef-d4e3-4926-d205-1ee5a2c42809"
      },
      "outputs": [
        {
          "output_type": "stream",
          "name": "stdout",
          "text": [
            "Collecting ase\n",
            "  Downloading ase-3.22.1-py3-none-any.whl (2.2 MB)\n",
            "\u001b[2K     \u001b[90m━━━━━━━━━━━━━━━━━━━━━━━━━━━━━━━━━━━━━━━━\u001b[0m \u001b[32m2.2/2.2 MB\u001b[0m \u001b[31m7.3 MB/s\u001b[0m eta \u001b[36m0:00:00\u001b[0m\n",
            "\u001b[?25hRequirement already satisfied: matplotlib>=3.1.0 in /usr/local/lib/python3.10/dist-packages (from ase) (3.7.1)\n",
            "Requirement already satisfied: numpy>=1.15.0 in /usr/local/lib/python3.10/dist-packages (from ase) (1.22.4)\n",
            "Requirement already satisfied: scipy>=1.1.0 in /usr/local/lib/python3.10/dist-packages (from ase) (1.10.1)\n",
            "Requirement already satisfied: contourpy>=1.0.1 in /usr/local/lib/python3.10/dist-packages (from matplotlib>=3.1.0->ase) (1.1.0)\n",
            "Requirement already satisfied: cycler>=0.10 in /usr/local/lib/python3.10/dist-packages (from matplotlib>=3.1.0->ase) (0.11.0)\n",
            "Requirement already satisfied: fonttools>=4.22.0 in /usr/local/lib/python3.10/dist-packages (from matplotlib>=3.1.0->ase) (4.41.0)\n",
            "Requirement already satisfied: kiwisolver>=1.0.1 in /usr/local/lib/python3.10/dist-packages (from matplotlib>=3.1.0->ase) (1.4.4)\n",
            "Requirement already satisfied: packaging>=20.0 in /usr/local/lib/python3.10/dist-packages (from matplotlib>=3.1.0->ase) (23.1)\n",
            "Requirement already satisfied: pillow>=6.2.0 in /usr/local/lib/python3.10/dist-packages (from matplotlib>=3.1.0->ase) (8.4.0)\n",
            "Requirement already satisfied: pyparsing>=2.3.1 in /usr/local/lib/python3.10/dist-packages (from matplotlib>=3.1.0->ase) (3.1.0)\n",
            "Requirement already satisfied: python-dateutil>=2.7 in /usr/local/lib/python3.10/dist-packages (from matplotlib>=3.1.0->ase) (2.8.2)\n",
            "Requirement already satisfied: six>=1.5 in /usr/local/lib/python3.10/dist-packages (from python-dateutil>=2.7->matplotlib>=3.1.0->ase) (1.16.0)\n",
            "Installing collected packages: ase\n",
            "Successfully installed ase-3.22.1\n"
          ]
        }
      ],
      "source": [
        "!pip install ase"
      ]
    },
    {
      "cell_type": "code",
      "source": [
        "!echo \"Si3 O6\" > POSCAR_SiO2\n",
        "!echo \"1.0\" >> POSCAR_SiO2\n",
        "!echo \" 2.4574830883638521   -4.2564855677874682    0.0000000000000000\" >>POSCAR_SiO2\n",
        "!echo \" 2.4574830883638521    4.2564855677874682    0.0000000000000000\" >>POSCAR_SiO2\n",
        "!echo \" 0.0000000000000000    0.0000000000000000    5.4313011400000004\" >>POSCAR_SiO2\n",
        "!echo \"Si O\" >>POSCAR_SiO2\n",
        "!echo \"3  6\" >>POSCAR_SiO2\n",
        "!echo \"Direct\" >>POSCAR_SiO2\n",
        "!echo \"  0.5310885900000000    0.5310885900000000    0.0000000000000000 Si4+\" >>POSCAR_SiO2\n",
        "!echo \"  0.0000000000000000    0.4689114100000000    0.6666666666666666 Si4+\" >>POSCAR_SiO2\n",
        "!echo \"  0.4689114100000000    0.0000000000000000    0.3333333333333333 Si4+\" >>POSCAR_SiO2\n",
        "!echo \"  0.2692231100000000    0.4133942900000000    0.7848909800000000 O2-\" >>POSCAR_SiO2\n",
        "!echo \"  0.5866057099999999    0.8558288199999999    0.1182243133333334 O2-\" >>POSCAR_SiO2\n",
        "!echo \"  0.1441711800000000    0.7307768900000000    0.4515576466666666 O2-\" >>POSCAR_SiO2\n",
        "!echo \"  0.4133942900000000    0.2692231100000000    0.2151090200000000 O2-\" >>POSCAR_SiO2\n",
        "!echo \"  0.7307768900000000    0.1441711800000000    0.5484423533333334 O2-\" >>POSCAR_SiO2\n",
        "!echo \"  0.8558288199999999    0.5866057099999999    0.8817756866666666 O2-\" >>POSCAR_SiO2"
      ],
      "metadata": {
        "id": "4-L8jxHs26WZ"
      },
      "execution_count": null,
      "outputs": []
    },
    {
      "cell_type": "code",
      "source": [
        "import numpy as np\n",
        "from ase import Atoms\n",
        "from ase.io import read, write\n",
        "\n",
        "base = read('POSCAR_SiO2',format='vasp')\n",
        "volume = np.fabs(np.linalg.det(base.cell))\n",
        "x, y, z = np.linalg.norm(base.cell,axis=-1)//1+1\n",
        "positions = base.positions.copy()\n",
        "symbols = np.array(base.get_chemical_symbols())\n",
        "types = list(set(symbols))"
      ],
      "metadata": {
        "id": "ytqZG3bP279_"
      },
      "execution_count": null,
      "outputs": []
    },
    {
      "cell_type": "code",
      "source": [
        "dx = np.linspace(0,1,int(x),endpoint=False)\n",
        "dy = np.linspace(0,1,int(y),endpoint=False)\n",
        "dz = np.linspace(0,1,int(z),endpoint=False)\n",
        "grid = np.meshgrid(dx,dy,dz)\n",
        "\n",
        "grid_pts = np.zeros((len(dx)*len(dy)*len(dz),3))\n",
        "for ix,nx in enumerate(dx):\n",
        "  for iy,ny in enumerate(dy):\n",
        "    for iz,nz in enumerate(dz):\n",
        "      idx = ix*len(dx)*len(dy)+iy*len(dy)+iz\n",
        "      grid_pts[idx] = np.array([grid[0][ix][iy][iz],grid[1][ix][iy][iz],grid[2][ix][iy][iz]])"
      ],
      "metadata": {
        "id": "xrEa7g-e06sa"
      },
      "execution_count": null,
      "outputs": []
    },
    {
      "cell_type": "code",
      "source": [
        "Rc = 2.2\n",
        "c_pts = grid_pts@base.cell\n",
        "NIONS = len(symbols)\n",
        "count = 0\n",
        "for idx, item in enumerate(c_pts):\n",
        "  base.append('X')\n",
        "  base.positions[-1]=item\n",
        "  dist = base.get_distances(-1,range(NIONS),mic=True)\n",
        "  if len(np.where(dist < Rc)[0]) == 0:\n",
        "    count += 1\n",
        "  del base[-1]\n",
        "print(base)\n",
        "print(count)"
      ],
      "metadata": {
        "colab": {
          "base_uri": "https://localhost:8080/"
        },
        "id": "RFi1vd-R1K8Q",
        "outputId": "3dcde4b6-1d70-43de-d3dd-9177bf67d804"
      },
      "execution_count": null,
      "outputs": [
        {
          "output_type": "stream",
          "name": "stdout",
          "text": [
            "Atoms(symbols='Si3O6', pbc=True, cell=[[2.457483088363852, -4.256485567787468, 0.0], [2.457483088363852, 4.256485567787468, 0.0], [0.0, 0.0, 5.43130114]])\n",
            "0\n"
          ]
        }
      ]
    }
  ]
}